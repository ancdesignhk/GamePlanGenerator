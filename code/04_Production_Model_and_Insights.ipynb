{
 "cells": [
  {
   "cell_type": "markdown",
   "id": "7b12a974-d09c-470d-9a5f-947564bc464b",
   "metadata": {},
   "source": [
    "# Production Model"
   ]
  },
  {
   "cell_type": "markdown",
   "id": "b54471dd-e484-4575-b082-fe7c40ddb64b",
   "metadata": {},
   "source": [
    "This notebook contains the final production model and insights derived from it."
   ]
  },
  {
   "cell_type": "markdown",
   "id": "b87e8d45-d258-48ce-958d-9551f332ecca",
   "metadata": {},
   "source": [
    "-------"
   ]
  },
  {
   "cell_type": "markdown",
   "id": "ed38845b-9578-442f-bfbb-2ea020e96176",
   "metadata": {},
   "source": [
    "### Production Player Model"
   ]
  },
  {
   "cell_type": "code",
   "execution_count": 55,
   "id": "0a753839-d077-47cc-8ace-18d36f92e358",
   "metadata": {},
   "outputs": [],
   "source": [
    "import pandas as pd\n",
    "import joblib\n",
    "import pickle\n",
    "from sklearn.model_selection import train_test_split\n",
    "from sklearn.linear_model import LinearRegression\n",
    "from sklearn.metrics import mean_squared_error, r2_score\n",
    "from xgboost import XGBRegressor"
   ]
  },
  {
   "cell_type": "code",
   "execution_count": 65,
   "id": "fd759877-0e44-41fc-9a36-5b23a51570cd",
   "metadata": {},
   "outputs": [
    {
     "data": {
      "text/plain": [
       "Player                   object\n",
       "Age                     float64\n",
       "Nation                   object\n",
       "Pos                      object\n",
       "Team                     object\n",
       "Performance-Gls         float64\n",
       "Performance-Ast         float64\n",
       "Performance-G+A         float64\n",
       "Performance-G-PK        float64\n",
       "Performance-PK          float64\n",
       "Performance-CrdY        float64\n",
       "Performance-CrdR        float64\n",
       "Playing Time-Min        float64\n",
       "Playing Time-MP         float64\n",
       "Playing Time-90s        float64\n",
       "Progression-PrgC        float64\n",
       "Progression-PrgP        float64\n",
       "Progression-PrgR        float64\n",
       "Expected-xG             float64\n",
       "Expected-npxG           float64\n",
       "Standard-Sh             float64\n",
       "Standard-SoT            float64\n",
       "PPA                     float64\n",
       "CrsPA                   float64\n",
       "KP                      float64\n",
       "Total-Cmp%              float64\n",
       "Team Success-PPM        float64\n",
       "Team Success-+/-90      float64\n",
       "Tackles-Tkl             float64\n",
       "Performance-Int         float64\n",
       "Blocks-Sh               float64\n",
       "Clr                     float64\n",
       "Balanced_Performance    float64\n",
       "dtype: object"
      ]
     },
     "execution_count": 65,
     "metadata": {},
     "output_type": "execute_result"
    }
   ],
   "source": [
    "player_data.dtypes"
   ]
  },
  {
   "cell_type": "code",
   "execution_count": 75,
   "id": "b18ee988-6844-4ed5-9259-28e777644696",
   "metadata": {},
   "outputs": [
    {
     "name": "stdout",
     "output_type": "stream",
     "text": [
      "X_train_player shape: (211, 28)\n",
      "X_test_player shape: (53, 28)\n"
     ]
    }
   ],
   "source": [
    "# Load the player dataset\n",
    "player_data = pd.read_csv(\"../data/player_stats_by_team/combined/filtered_player_stats.csv\")\n",
    "\n",
    "# Split features and target\n",
    "X_player = player_data.drop(columns=[\"Balanced_Performance\",\"Nation\",\"Pos\",\"Team\",\"Player\"])\n",
    "y_player = player_data[\"Balanced_Performance\"]\n",
    "\n",
    "# Split into train/test sets\n",
    "X_train_player, X_test_player, y_train_player, y_test_player = train_test_split(\n",
    "    X_player, y_player, test_size=0.2, random_state=42\n",
    ")\n",
    "print(f\"X_train_player shape: {X_train_player.shape}\")\n",
    "print(f\"X_test_player shape: {X_test_player.shape}\")"
   ]
  },
  {
   "cell_type": "code",
   "execution_count": 76,
   "id": "21877018-6c80-4871-96a4-70c3e3a018e5",
   "metadata": {},
   "outputs": [
    {
     "name": "stdout",
     "output_type": "stream",
     "text": [
      "Linear Regression model saved\n"
     ]
    }
   ],
   "source": [
    "# Train Linear Regression\n",
    "linear_model = LinearRegression()\n",
    "linear_model.fit(X_train_player, y_train_player)\n",
    "\n",
    "# Save the Linear Regression model\n",
    "with open('../streamlit/linear_regression_player_model.pkl', 'wb') as model_file:\n",
    "    pickle.dump(linear_model, model_file)\n",
    "print(\"Linear Regression model saved\")"
   ]
  },
  {
   "cell_type": "markdown",
   "id": "fc0e98b0-8ac5-4acf-b09c-8a0f60d6599b",
   "metadata": {},
   "source": [
    "### Production Club Model"
   ]
  },
  {
   "cell_type": "code",
   "execution_count": 73,
   "id": "ddeffb77-2aa8-4af6-b708-e408df40d60b",
   "metadata": {},
   "outputs": [
    {
     "name": "stdout",
     "output_type": "stream",
     "text": [
      "Original X_club shape: (20, 55)\n",
      "X_train_club shape: (16, 55)\n",
      "X_test_club shape: (4, 55)\n"
     ]
    }
   ],
   "source": [
    "# Load the club dataset\n",
    "club_data = pd.read_csv(\"../data/premier_league_by_table/combined/filtered_club_stats.csv\")\n",
    "\n",
    "# Split features and target\n",
    "X_club = club_data.drop(columns=[\"Pts/MP\",\"Squad\"])  # Features\n",
    "y_club = club_data[\"Pts/MP\"]  # Target\n",
    "\n",
    "print(f\"Original X_club shape: {X_club.shape}\")\n",
    "\n",
    "# Split into train/test sets\n",
    "X_train_club, X_test_club, y_train_club, y_test_club = train_test_split(\n",
    "    X_club, y_club, test_size=0.2, random_state=42\n",
    ")\n",
    "\n",
    "print(f\"X_train_club shape: {X_train_club.shape}\")\n",
    "print(f\"X_test_club shape: {X_test_club.shape}\")"
   ]
  },
  {
   "cell_type": "code",
   "execution_count": 74,
   "id": "55c238e1-8524-4b1c-b8ba-09dd7931907b",
   "metadata": {},
   "outputs": [
    {
     "name": "stdout",
     "output_type": "stream",
     "text": [
      "XGBoost model saved\n",
      "Feature names saved\n"
     ]
    }
   ],
   "source": [
    "# Train XGBoost\n",
    "xgboost_model = XGBRegressor(n_estimators=200, max_depth=10, random_state=42)\n",
    "xgboost_model.fit(X_train_club, y_train_club)\n",
    "\n",
    "# Save the XGBoost model\n",
    "with open(\"../streamlit/xgboost_club_model.pkl\", \"wb\") as model_file:\n",
    "    pickle.dump(xgboost_model, model_file)\n",
    "print(\"XGBoost model saved\")\n",
    "\n",
    "# Save the feature names\n",
    "feature_names = X_train_club.columns.tolist()\n",
    "with open(\"../streamlit/club_model_feature_names.pkl\", \"wb\") as f:\n",
    "    pickle.dump(feature_names, f)\n",
    "print(\"Feature names saved\")"
   ]
  }
 ],
 "metadata": {
  "kernelspec": {
   "display_name": "Python 3 (ipykernel)",
   "language": "python",
   "name": "python3"
  },
  "language_info": {
   "codemirror_mode": {
    "name": "ipython",
    "version": 3
   },
   "file_extension": ".py",
   "mimetype": "text/x-python",
   "name": "python",
   "nbconvert_exporter": "python",
   "pygments_lexer": "ipython3",
   "version": "3.12.4"
  }
 },
 "nbformat": 4,
 "nbformat_minor": 5
}

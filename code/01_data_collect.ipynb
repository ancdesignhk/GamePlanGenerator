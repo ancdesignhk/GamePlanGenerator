{
 "cells": [
  {
   "cell_type": "markdown",
   "id": "a25cecf3-6f7c-414b-9c6b-bdc4c0ec08c5",
   "metadata": {},
   "source": [
    "# Data Collecting"
   ]
  },
  {
   "cell_type": "markdown",
   "id": "9adc4a8f-737c-4fc2-85f6-8b3254ac004c",
   "metadata": {},
   "source": [
    "This notebook is designed to scrape football team statistics from the FBref website for the 2023-2024 season. "
   ]
  },
  {
   "cell_type": "markdown",
   "id": "efe7928e-8adf-48c4-8ee0-0822599d7347",
   "metadata": {},
   "source": [
    "---"
   ]
  },
  {
   "cell_type": "code",
   "execution_count": 2,
   "id": "fc5773f1-e320-473a-90fd-7f3c41a74bc7",
   "metadata": {},
   "outputs": [],
   "source": [
    "# import libraries\n",
    "import requests\n",
    "import os\n",
    "import pandas as pd\n",
    "import time\n",
    "import random\n",
    "from pathlib import Path"
   ]
  },
  {
   "cell_type": "markdown",
   "id": "c55b06dc-41cf-44f3-ba5c-d8275b68f67c",
   "metadata": {},
   "source": [
    "### scrape for clubs stats"
   ]
  },
  {
   "cell_type": "code",
   "execution_count": 12,
   "id": "aad9147b-f6bc-44b7-96dc-227dc8d51614",
   "metadata": {},
   "outputs": [],
   "source": [
    "# Base URL and configurations\n",
    "base_url = \"https://fbref.com/en/comps/9/{season}/{season}-Premier-League-Stats\"\n",
    "# seasons = [\"2017-2018\", \"2018-2019\", \"2019-2020\", \"2020-2021\", \"2021-2022\", \"2022-2023\", \"2023-2024\"]\n",
    "seasons = [\"2023-2024\"]\n",
    "\n",
    "# table_ids = [\n",
    "#     \"stats_squads_standard_for\", \"stats_squads_keeper_for\",\n",
    "#     \"stats_squads_shooting_for\", \"stats_squads_misc_for\",\n",
    "#     \"stats_squads_passing_for\", \"stats_squads_passing_types_for\",\n",
    "#     \"stats_squads_defense_for\"\n",
    "# ]"
   ]
  },
  {
   "cell_type": "code",
   "execution_count": 4,
   "id": "166d912c-13ab-40b8-99b3-d5bd2ed6d6c5",
   "metadata": {},
   "outputs": [],
   "source": [
    "output_dir = Path(\"../data/premier_league_by_table\")\n",
    "output_dir.mkdir(parents=True, exist_ok=True)"
   ]
  },
  {
   "cell_type": "code",
   "execution_count": 5,
   "id": "86279c21-ffcd-4a0c-9364-e40b42227ddf",
   "metadata": {},
   "outputs": [
    {
     "name": "stdout",
     "output_type": "stream",
     "text": [
      "Scraping data for season 2023-2024: https://fbref.com/en/comps/9/2023-2024/2023-2024-Premier-League-Stats\n"
     ]
    },
    {
     "name": "stderr",
     "output_type": "stream",
     "text": [
      "/var/folders/k6/mmz0tx1947j6q84s0s6l74gc0000gn/T/ipykernel_3124/2871286482.py:10: FutureWarning: Passing literal html to 'read_html' is deprecated and will be removed in a future version. To read from a literal string, wrap it in a 'StringIO' object.\n",
      "  tables = pd.read_html(response.text)\n"
     ]
    },
    {
     "name": "stdout",
     "output_type": "stream",
     "text": [
      "Saved table 0 for season 2023-2024 to ../data/premier_league_by_table/club_stats_2023-2024_table_0.csv\n",
      "Saved table 1 for season 2023-2024 to ../data/premier_league_by_table/club_stats_2023-2024_table_1.csv\n",
      "Saved table 2 for season 2023-2024 to ../data/premier_league_by_table/club_stats_2023-2024_table_2.csv\n",
      "Saved table 3 for season 2023-2024 to ../data/premier_league_by_table/club_stats_2023-2024_table_3.csv\n",
      "Saved table 4 for season 2023-2024 to ../data/premier_league_by_table/club_stats_2023-2024_table_4.csv\n",
      "Saved table 5 for season 2023-2024 to ../data/premier_league_by_table/club_stats_2023-2024_table_5.csv\n",
      "Saved table 6 for season 2023-2024 to ../data/premier_league_by_table/club_stats_2023-2024_table_6.csv\n",
      "Saved table 7 for season 2023-2024 to ../data/premier_league_by_table/club_stats_2023-2024_table_7.csv\n",
      "Saved table 8 for season 2023-2024 to ../data/premier_league_by_table/club_stats_2023-2024_table_8.csv\n",
      "Saved table 9 for season 2023-2024 to ../data/premier_league_by_table/club_stats_2023-2024_table_9.csv\n",
      "Saved table 10 for season 2023-2024 to ../data/premier_league_by_table/club_stats_2023-2024_table_10.csv\n",
      "Saved table 11 for season 2023-2024 to ../data/premier_league_by_table/club_stats_2023-2024_table_11.csv\n",
      "Saved table 12 for season 2023-2024 to ../data/premier_league_by_table/club_stats_2023-2024_table_12.csv\n",
      "Saved table 13 for season 2023-2024 to ../data/premier_league_by_table/club_stats_2023-2024_table_13.csv\n",
      "Saved table 14 for season 2023-2024 to ../data/premier_league_by_table/club_stats_2023-2024_table_14.csv\n",
      "Saved table 15 for season 2023-2024 to ../data/premier_league_by_table/club_stats_2023-2024_table_15.csv\n",
      "Saved table 16 for season 2023-2024 to ../data/premier_league_by_table/club_stats_2023-2024_table_16.csv\n",
      "Saved table 17 for season 2023-2024 to ../data/premier_league_by_table/club_stats_2023-2024_table_17.csv\n",
      "Saved table 18 for season 2023-2024 to ../data/premier_league_by_table/club_stats_2023-2024_table_18.csv\n",
      "Saved table 19 for season 2023-2024 to ../data/premier_league_by_table/club_stats_2023-2024_table_19.csv\n",
      "Saved table 20 for season 2023-2024 to ../data/premier_league_by_table/club_stats_2023-2024_table_20.csv\n",
      "Saved table 21 for season 2023-2024 to ../data/premier_league_by_table/club_stats_2023-2024_table_21.csv\n",
      "Saved table 22 for season 2023-2024 to ../data/premier_league_by_table/club_stats_2023-2024_table_22.csv\n",
      "Saved table 23 for season 2023-2024 to ../data/premier_league_by_table/club_stats_2023-2024_table_23.csv\n"
     ]
    }
   ],
   "source": [
    "for season in seasons:\n",
    "    season_url = base_url.format(season=season)\n",
    "\n",
    "    print(f\"Scraping data for season {season}: {season_url}\")\n",
    "    \n",
    "    try:\n",
    "        # Fetch the webpage and parse tables\n",
    "        response = requests.get(season_url)\n",
    "        response.raise_for_status()\n",
    "        tables = pd.read_html(response.text)\n",
    "\n",
    "        # Save each table for the season\n",
    "        for i, table in enumerate(tables):\n",
    "            output_file = output_dir / f\"club_stats_{season}_table_{i}.csv\"\n",
    "            table.to_csv(output_file, index=False)\n",
    "            print(f\"Saved table {i} for season {season} to {output_file}\")\n",
    "\n",
    "    except Exception as e:\n",
    "        print(f\"Error scraping data for season {season}: {e}\")\n",
    "    \n",
    "    # Add a delay to avoid overloading the server\n",
    "    time.sleep(5)"
   ]
  },
  {
   "cell_type": "markdown",
   "id": "deb2b0ca-70b5-49ee-8cd8-cd2b52e34d3d",
   "metadata": {},
   "source": [
    "### Scrape for players stats"
   ]
  },
  {
   "cell_type": "code",
   "execution_count": 31,
   "id": "2105f643-1ca0-4724-bbd9-c89de630f3c9",
   "metadata": {},
   "outputs": [],
   "source": [
    "teams = [\n",
    "    {\"id\": \"18bb7c10\", \"name\": \"Arsenal\"},\n",
    "    {\"id\": \"8602292d\", \"name\": \"Aston-Villa\"},\n",
    "    {\"id\": \"4ba7cbea\", \"name\": \"Bournemouth\"},\n",
    "    {\"id\": \"d07537b9\", \"name\": \"Brighton-Hove-Albion\"},\n",
    "    {\"id\": \"cd051869\", \"name\": \"Burnley\"},\n",
    "    {\"id\": \"cff3d9bb\", \"name\": \"Chelsea\"},\n",
    "    {\"id\": \"47c64c55\", \"name\": \"Crystal-Palace\"},\n",
    "    {\"id\": \"d3fd31cc\", \"name\": \"Everton\"},\n",
    "    {\"id\": \"fd962109\", \"name\": \"Fulham\"},\n",
    "    {\"id\": \"822bd0ba\", \"name\": \"Liverpool\"},\n",
    "    {\"id\": \"b8fd03ef\", \"name\": \"Manchester-City\"},\n",
    "    {\"id\": \"19538871\", \"name\": \"Manchester-United\"},\n",
    "    {\"id\": \"b2b47a98\", \"name\": \"Newcastle-United\"},\n",
    "    {\"id\": \"1df6b87e\", \"name\": \"Sheffield-United\"},\n",
    "    {\"id\": \"361ca564\", \"name\": \"Tottenham-Hotspur\"},\n",
    "    {\"id\": \"7c21e445\", \"name\": \"West-Ham-United\"},\n",
    "    {\"id\": \"8cec06e1\", \"name\": \"Wolverhampton-Wanderers\"},\n",
    "    {\"id\": \"5bfb9659\", \"name\": \"Nott'ham-Forest\"},\n",
    "    {\"id\": \"f5922ca5\", \"name\": \"Brentford\"},\n",
    "    {\"id\": \"e297cd13\", \"name\": \"Luton-Town\"}\n",
    "]\n",
    "\n",
    "seasons = [\"2023-2024\"]"
   ]
  },
  {
   "cell_type": "code",
   "execution_count": 29,
   "id": "3ff8f3b9-960b-40d4-b2e0-281f4e3b365a",
   "metadata": {},
   "outputs": [],
   "source": [
    "base_url = \"https://fbref.com/en/squads/{team_id}/{year}/{team_name}-Stats\""
   ]
  },
  {
   "cell_type": "code",
   "execution_count": 30,
   "id": "8d667d2a-f781-4350-85f6-64e00021cd1c",
   "metadata": {
    "scrolled": true
   },
   "outputs": [
    {
     "name": "stdout",
     "output_type": "stream",
     "text": [
      "Scraping data for Crystal-Palace (2023-2024): https://fbref.com/en/squads/47c64c55/2023-2024/Crystal-Palace-Stats\n"
     ]
    },
    {
     "name": "stderr",
     "output_type": "stream",
     "text": [
      "/var/folders/k6/mmz0tx1947j6q84s0s6l74gc0000gn/T/ipykernel_3124/2364927608.py:17: FutureWarning: Passing literal html to 'read_html' is deprecated and will be removed in a future version. To read from a literal string, wrap it in a 'StringIO' object.\n",
      "  tables = pd.read_html(response.text)\n"
     ]
    },
    {
     "name": "stdout",
     "output_type": "stream",
     "text": [
      "Saved table 0 for Crystal-Palace (2023-2024) to ../data/player_stats_by_team/Crystal-Palace_table_0_stats_2023-2024.csv\n",
      "Saved table 1 for Crystal-Palace (2023-2024) to ../data/player_stats_by_team/Crystal-Palace_table_1_stats_2023-2024.csv\n",
      "Saved table 2 for Crystal-Palace (2023-2024) to ../data/player_stats_by_team/Crystal-Palace_table_2_stats_2023-2024.csv\n",
      "Saved table 3 for Crystal-Palace (2023-2024) to ../data/player_stats_by_team/Crystal-Palace_table_3_stats_2023-2024.csv\n",
      "Saved table 4 for Crystal-Palace (2023-2024) to ../data/player_stats_by_team/Crystal-Palace_table_4_stats_2023-2024.csv\n",
      "Saved table 5 for Crystal-Palace (2023-2024) to ../data/player_stats_by_team/Crystal-Palace_table_5_stats_2023-2024.csv\n",
      "Saved table 6 for Crystal-Palace (2023-2024) to ../data/player_stats_by_team/Crystal-Palace_table_6_stats_2023-2024.csv\n",
      "Saved table 7 for Crystal-Palace (2023-2024) to ../data/player_stats_by_team/Crystal-Palace_table_7_stats_2023-2024.csv\n",
      "Saved table 8 for Crystal-Palace (2023-2024) to ../data/player_stats_by_team/Crystal-Palace_table_8_stats_2023-2024.csv\n",
      "Saved table 9 for Crystal-Palace (2023-2024) to ../data/player_stats_by_team/Crystal-Palace_table_9_stats_2023-2024.csv\n",
      "Saved table 10 for Crystal-Palace (2023-2024) to ../data/player_stats_by_team/Crystal-Palace_table_10_stats_2023-2024.csv\n",
      "Saved table 11 for Crystal-Palace (2023-2024) to ../data/player_stats_by_team/Crystal-Palace_table_11_stats_2023-2024.csv\n",
      "Saved table 12 for Crystal-Palace (2023-2024) to ../data/player_stats_by_team/Crystal-Palace_table_12_stats_2023-2024.csv\n",
      "Saved table 13 for Crystal-Palace (2023-2024) to ../data/player_stats_by_team/Crystal-Palace_table_13_stats_2023-2024.csv\n"
     ]
    }
   ],
   "source": [
    "for team in teams:\n",
    "    team_id = team[\"id\"]\n",
    "    team_name = team[\"name\"]\n",
    "\n",
    "    for season_slug in seasons:\n",
    "        # Format the URL\n",
    "        season_url = base_url.format(team_id=team_id, year=season_slug, team_name=team_name)\n",
    "\n",
    "        print(f\"Scraping data for {team_name} ({season_slug}): {season_url}\")\n",
    "\n",
    "        try:\n",
    "            # Request page content\n",
    "            response = requests.get(season_url)\n",
    "            response.raise_for_status()\n",
    "\n",
    "            # Use pandas to read all tables on the page\n",
    "            tables = pd.read_html(response.text)\n",
    "\n",
    "            for i, table in enumerate(tables):\n",
    "                # Add metadata columns\n",
    "                table[\"Season\"] = season_slug\n",
    "                table[\"Team\"] = team_name\n",
    "\n",
    "                # Save each table to a separate CSV file\n",
    "                output_file = output_dir / f\"{team_name}_table_{i}_stats_{season_slug}.csv\"\n",
    "                table.to_csv(output_file, index=False)\n",
    "\n",
    "                print(f\"Saved table {i} for {team_name} ({season_slug}) to {output_file}\")\n",
    "\n",
    "        except Exception as e:\n",
    "            print(f\"Error scraping data for {team_name} ({season_slug}): {e}\")\n",
    "\n",
    "        # Add a delay to avoid overloading the server\n",
    "        time.sleep(5)"
   ]
  },
  {
   "cell_type": "code",
   "execution_count": null,
   "id": "95c7af10-d3d6-4521-8bdb-2c951124de6f",
   "metadata": {},
   "outputs": [],
   "source": []
  }
 ],
 "metadata": {
  "kernelspec": {
   "display_name": "Python 3 (ipykernel)",
   "language": "python",
   "name": "python3"
  },
  "language_info": {
   "codemirror_mode": {
    "name": "ipython",
    "version": 3
   },
   "file_extension": ".py",
   "mimetype": "text/x-python",
   "name": "python",
   "nbconvert_exporter": "python",
   "pygments_lexer": "ipython3",
   "version": "3.12.4"
  }
 },
 "nbformat": 4,
 "nbformat_minor": 5
}
